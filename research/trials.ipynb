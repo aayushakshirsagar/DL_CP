{
 "cells": [
  {
   "cell_type": "code",
   "execution_count": null,
   "id": "681bdd2d",
   "metadata": {},
   "outputs": [],
   "source": [
    "## Download data from google drive\n",
    "\n",
    "import gdown\n"
   ]
  },
  {
   "cell_type": "code",
   "execution_count": 2,
   "id": "44e35d97",
   "metadata": {},
   "outputs": [],
   "source": [
    "url = \"https://drive.google.com/file/d/1RbUK3kdVX3t85oXgQbp5NFlajTkZvzfB/view?usp=sharing\""
   ]
  },
  {
   "cell_type": "code",
   "execution_count": 6,
   "id": "df79b2b4",
   "metadata": {},
   "outputs": [
    {
     "data": {
      "text/plain": [
       "'1RbUK3kdVX3t85oXgQbp5NFlajTkZvzfB'"
      ]
     },
     "execution_count": 6,
     "metadata": {},
     "output_type": "execute_result"
    }
   ],
   "source": [
    "file_id = url.split(\"/\")[-2]\n",
    "file_id"
   ]
  },
  {
   "cell_type": "code",
   "execution_count": 7,
   "id": "c73b27b4",
   "metadata": {},
   "outputs": [
    {
     "name": "stderr",
     "output_type": "stream",
     "text": [
      "Downloading...\n",
      "From (original): https://drive.google.com/uc?/export=download&id=1RbUK3kdVX3t85oXgQbp5NFlajTkZvzfB\n",
      "From (redirected): https://drive.google.com/uc?%2Fexport=download&id=1RbUK3kdVX3t85oXgQbp5NFlajTkZvzfB&confirm=t&uuid=3c37e636-9c7f-4a0f-bf76-1199d0b0a96a\n",
      "To: d:\\Deep Learning\\CP\\DL-Kidney-Disease-Classification\\research\\CT-scan-data.zip\n",
      "100%|██████████| 941M/941M [11:19<00:00, 1.38MB/s] \n"
     ]
    },
    {
     "data": {
      "text/plain": [
       "'CT-scan-data.zip'"
      ]
     },
     "execution_count": 7,
     "metadata": {},
     "output_type": "execute_result"
    }
   ],
   "source": [
    "prefix = 'https://drive.google.com/uc?/export=download&id='\n",
    "gdown.download(prefix+file_id, \"CT-scan-data.zip\")"
   ]
  }
 ],
 "metadata": {
  "kernelspec": {
   "display_name": "kidney",
   "language": "python",
   "name": "python3"
  },
  "language_info": {
   "codemirror_mode": {
    "name": "ipython",
    "version": 3
   },
   "file_extension": ".py",
   "mimetype": "text/x-python",
   "name": "python",
   "nbconvert_exporter": "python",
   "pygments_lexer": "ipython3",
   "version": "3.8.20"
  }
 },
 "nbformat": 4,
 "nbformat_minor": 5
}
